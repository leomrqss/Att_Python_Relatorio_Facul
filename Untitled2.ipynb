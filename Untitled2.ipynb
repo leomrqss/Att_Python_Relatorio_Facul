{
  "nbformat": 4,
  "nbformat_minor": 0,
  "metadata": {
    "colab": {
      "provenance": [],
      "authorship_tag": "ABX9TyNSPORJ6mBPCp6+iRtXvdDy",
      "include_colab_link": true
    },
    "kernelspec": {
      "name": "python3",
      "display_name": "Python 3"
    },
    "language_info": {
      "name": "python"
    }
  },
  "cells": [
    {
      "cell_type": "markdown",
      "metadata": {
        "id": "view-in-github",
        "colab_type": "text"
      },
      "source": [
        "<a href=\"https://colab.research.google.com/github/leomrqss/Att_Python_Relatorio_Facul/blob/main/Untitled2.ipynb\" target=\"_parent\"><img src=\"https://colab.research.google.com/assets/colab-badge.svg\" alt=\"Open In Colab\"/></a>"
      ]
    },
    {
      "cell_type": "code",
      "source": [
        "# Sistema de Gestão de Notas de Alunos\n",
        "\n",
        "# Lista de notas simulada (troque os valores para testar)\n",
        "notas_aluno = [8.0, 7.5, 7.0]\n",
        "\n",
        "# Função para calcular a média\n",
        "def calcular_media(notas):\n",
        "    if len(notas) == 0:\n",
        "        return 0\n",
        "    return sum(notas) / len(notas)\n",
        "\n",
        "# Função para determinar a situação\n",
        "def verificar_situacao(media):\n",
        "  #Verifica a situação do aluno com base na média.\n",
        "    #- Se média >= 7 → Aprovado\n",
        "    #- Se média < 7  → Reprovado\n",
        "    if media >= 7:\n",
        "        return \"Aprovado\"\n",
        "    else:\n",
        "        return \"Reprovado\"\n",
        "\n",
        "# Função para exibir o relatório final\n",
        "def exibir_relatorio(notas, media, situacao):\n",
        "  #Exibe as notas, a média calculada e a situação final do aluno.\n",
        "    print(\"\\nRELATÓRIO FINAL\")\n",
        "    print(f\"Notas: {notas}\")\n",
        "    print(f\"Média: {media:.2f}\")\n",
        "    print(f\"Situação: {situacao}\")\n",
        "\n",
        "# Programa principal\n",
        "\n",
        "#Calcula a média do aluno\n",
        "media_aluno = calcular_media(notas_aluno)\n",
        "# Determina a situação (aprovado ou reprovado)\n",
        "situacao_aluno = verificar_situacao(media_aluno)\n",
        "# Mostra o relatório final\n",
        "exibir_relatorio(notas_aluno, media_aluno, situacao_aluno)\n"
      ],
      "metadata": {
        "colab": {
          "base_uri": "https://localhost:8080/"
        },
        "id": "b5gI1dU0TpA7",
        "outputId": "4b3959ff-ccee-424a-f5f5-53d70038652e"
      },
      "execution_count": 61,
      "outputs": [
        {
          "output_type": "stream",
          "name": "stdout",
          "text": [
            "\n",
            "RELATÓRIO FINAL\n",
            "Notas: [8.0, 7.5, 7.0]\n",
            "Média: 7.50\n",
            "Situação: Aprovado\n"
          ]
        }
      ]
    }
  ]
}